{
 "cells": [
  {
   "cell_type": "markdown",
   "id": "c20ff487",
   "metadata": {},
   "source": [
    "## ACO501: Phase 2 Pandas Data Wrangling\n",
    "## Daniel Bihnam"
   ]
  },
  {
   "cell_type": "markdown",
   "id": "fec5aaea",
   "metadata": {},
   "source": [
    "### Import pandas package"
   ]
  },
  {
   "cell_type": "code",
   "execution_count": 2,
   "id": "f506e48b",
   "metadata": {},
   "outputs": [],
   "source": [
    "import pandas as pd"
   ]
  },
  {
   "cell_type": "markdown",
   "id": "b31e06af",
   "metadata": {},
   "source": [
    "### Read in CSV files"
   ]
  },
  {
   "cell_type": "code",
   "execution_count": 7,
   "id": "4b4994b2",
   "metadata": {},
   "outputs": [
    {
     "name": "stdout",
     "output_type": "stream",
     "text": [
      "<class 'pandas.core.frame.DataFrame'>\n",
      "RangeIndex: 187 entries, 0 to 186\n",
      "Data columns (total 23 columns):\n",
      " #   Column                 Non-Null Count  Dtype  \n",
      "---  ------                 --------------  -----  \n",
      " 0   taxonid                187 non-null    int64  \n",
      " 1   assessmentid           187 non-null    int64  \n",
      " 2   kingdom                187 non-null    object \n",
      " 3   phylum                 187 non-null    object \n",
      " 4   class                  187 non-null    object \n",
      " 5   order                  187 non-null    object \n",
      " 6   family                 187 non-null    object \n",
      " 7   genus                  187 non-null    object \n",
      " 8   species                187 non-null    object \n",
      " 9   infrarank              0 non-null      float64\n",
      " 10  infratype              0 non-null      float64\n",
      " 11  subpopulation          0 non-null      float64\n",
      " 12  friendly_name          187 non-null    object \n",
      " 13  taxonomic_authority    187 non-null    object \n",
      " 14  category               187 non-null    object \n",
      " 15  criteria               61 non-null     object \n",
      " 16  possibly_extinct       187 non-null    bool   \n",
      " 17  possibly_extinct_wild  187 non-null    bool   \n",
      " 18  assessmentdate         187 non-null    object \n",
      " 19  assessors              187 non-null    object \n",
      " 20  evaluators             187 non-null    object \n",
      " 21  contributors           75 non-null     object \n",
      " 22  facilitators           112 non-null    object \n",
      "dtypes: bool(2), float64(3), int64(2), object(16)\n",
      "memory usage: 31.2+ KB\n"
     ]
    }
   ],
   "source": [
    "taxonomyData = pd.read_csv('IUCNHierarchyAndExtinction.csv')\n",
    "taxonomyData.info()"
   ]
  },
  {
   "cell_type": "code",
   "execution_count": 6,
   "id": "dab42a2f",
   "metadata": {},
   "outputs": [
    {
     "name": "stdout",
     "output_type": "stream",
     "text": [
      "<class 'pandas.core.frame.DataFrame'>\n",
      "RangeIndex: 17825 entries, 0 to 17824\n",
      "Data columns (total 13 columns):\n",
      " #   Column                         Non-Null Count  Dtype \n",
      "---  ------                         --------------  ----- \n",
      " 0   taxonid                        17825 non-null  int64 \n",
      " 1   assessmentid                   17825 non-null  int64 \n",
      " 2   recordid                       17825 non-null  int64 \n",
      " 3   countryoccurrencelookup        17825 non-null  int64 \n",
      " 4   countryoccurrencelookup_value  17543 non-null  object\n",
      " 5   formerlybred                   17825 non-null  int64 \n",
      " 6   formerlybred_value             52 non-null     object\n",
      " 7   origin                         17825 non-null  int64 \n",
      " 8   origin_value                   17543 non-null  object\n",
      " 9   presence                       17825 non-null  int64 \n",
      " 10  presence_value                 17543 non-null  object\n",
      " 11  seasonality                    17825 non-null  int64 \n",
      " 12  seasonality_value              6223 non-null   object\n",
      "dtypes: int64(8), object(5)\n",
      "memory usage: 1.8+ MB\n"
     ]
    }
   ],
   "source": [
    "countryData = pd.read_csv('IUCNSpeciesCountryOccurances.csv')\n",
    "countryData.info()"
   ]
  },
  {
   "cell_type": "markdown",
   "id": "dca0fd07",
   "metadata": {},
   "source": [
    "### Visualize data"
   ]
  },
  {
   "cell_type": "code",
   "execution_count": 8,
   "id": "8edfb25e",
   "metadata": {
    "scrolled": false
   },
   "outputs": [
    {
     "data": {
      "text/html": [
       "<div>\n",
       "<style scoped>\n",
       "    .dataframe tbody tr th:only-of-type {\n",
       "        vertical-align: middle;\n",
       "    }\n",
       "\n",
       "    .dataframe tbody tr th {\n",
       "        vertical-align: top;\n",
       "    }\n",
       "\n",
       "    .dataframe thead th {\n",
       "        text-align: right;\n",
       "    }\n",
       "</style>\n",
       "<table border=\"1\" class=\"dataframe\">\n",
       "  <thead>\n",
       "    <tr style=\"text-align: right;\">\n",
       "      <th></th>\n",
       "      <th>taxonid</th>\n",
       "      <th>assessmentid</th>\n",
       "      <th>kingdom</th>\n",
       "      <th>phylum</th>\n",
       "      <th>class</th>\n",
       "      <th>order</th>\n",
       "      <th>family</th>\n",
       "      <th>genus</th>\n",
       "      <th>species</th>\n",
       "      <th>infrarank</th>\n",
       "      <th>...</th>\n",
       "      <th>taxonomic_authority</th>\n",
       "      <th>category</th>\n",
       "      <th>criteria</th>\n",
       "      <th>possibly_extinct</th>\n",
       "      <th>possibly_extinct_wild</th>\n",
       "      <th>assessmentdate</th>\n",
       "      <th>assessors</th>\n",
       "      <th>evaluators</th>\n",
       "      <th>contributors</th>\n",
       "      <th>facilitators</th>\n",
       "    </tr>\n",
       "  </thead>\n",
       "  <tbody>\n",
       "    <tr>\n",
       "      <th>0</th>\n",
       "      <td>17026</td>\n",
       "      <td>1306343</td>\n",
       "      <td>ANIMALIA</td>\n",
       "      <td>CHORDATA</td>\n",
       "      <td>MAMMALIA</td>\n",
       "      <td>CARNIVORA</td>\n",
       "      <td>OTARIIDAE</td>\n",
       "      <td>Phocarctos</td>\n",
       "      <td>hookeri</td>\n",
       "      <td>NaN</td>\n",
       "      <td>...</td>\n",
       "      <td>(Gray, 1844)</td>\n",
       "      <td>EN</td>\n",
       "      <td>A4bd</td>\n",
       "      <td>False</td>\n",
       "      <td>False</td>\n",
       "      <td>18-Nov-14</td>\n",
       "      <td>Chilvers, B.L.</td>\n",
       "      <td>Goldsworthy, S.D.</td>\n",
       "      <td>Gales, N.J.</td>\n",
       "      <td>Lowry, L., Chiozza, F., Ahonen, H. &amp; Battiston...</td>\n",
       "    </tr>\n",
       "    <tr>\n",
       "      <th>1</th>\n",
       "      <td>22103</td>\n",
       "      <td>9356917</td>\n",
       "      <td>ANIMALIA</td>\n",
       "      <td>CHORDATA</td>\n",
       "      <td>MAMMALIA</td>\n",
       "      <td>SIRENIA</td>\n",
       "      <td>TRICHECHIDAE</td>\n",
       "      <td>Trichechus</td>\n",
       "      <td>manatus</td>\n",
       "      <td>NaN</td>\n",
       "      <td>...</td>\n",
       "      <td>Linnaeus, 1758</td>\n",
       "      <td>VU</td>\n",
       "      <td>C1</td>\n",
       "      <td>False</td>\n",
       "      <td>False</td>\n",
       "      <td>30-Jun-08</td>\n",
       "      <td>Deutsch, C.J., Self-Sullivan, C. &amp; Mignucci-Gi...</td>\n",
       "      <td>Reynolds III, J.E. &amp; Powell, J.A. (Sirenia Red...</td>\n",
       "      <td>NaN</td>\n",
       "      <td>NaN</td>\n",
       "    </tr>\n",
       "    <tr>\n",
       "      <th>2</th>\n",
       "      <td>10303</td>\n",
       "      <td>43792683</td>\n",
       "      <td>ANIMALIA</td>\n",
       "      <td>CHORDATA</td>\n",
       "      <td>MAMMALIA</td>\n",
       "      <td>SIRENIA</td>\n",
       "      <td>DUGONGIDAE</td>\n",
       "      <td>Hydrodamalis</td>\n",
       "      <td>gigas</td>\n",
       "      <td>NaN</td>\n",
       "      <td>...</td>\n",
       "      <td>(Zimmermann, 1780)</td>\n",
       "      <td>EX</td>\n",
       "      <td>NaN</td>\n",
       "      <td>False</td>\n",
       "      <td>False</td>\n",
       "      <td>04-Apr-16</td>\n",
       "      <td>Domning, D.</td>\n",
       "      <td>Morales-Vela, B.</td>\n",
       "      <td>NaN</td>\n",
       "      <td>NaN</td>\n",
       "    </tr>\n",
       "    <tr>\n",
       "      <th>3</th>\n",
       "      <td>22102</td>\n",
       "      <td>43793736</td>\n",
       "      <td>ANIMALIA</td>\n",
       "      <td>CHORDATA</td>\n",
       "      <td>MAMMALIA</td>\n",
       "      <td>SIRENIA</td>\n",
       "      <td>TRICHECHIDAE</td>\n",
       "      <td>Trichechus</td>\n",
       "      <td>inunguis</td>\n",
       "      <td>NaN</td>\n",
       "      <td>...</td>\n",
       "      <td>(Natterer, 1883)</td>\n",
       "      <td>VU</td>\n",
       "      <td>A3cd</td>\n",
       "      <td>False</td>\n",
       "      <td>False</td>\n",
       "      <td>28-Feb-16</td>\n",
       "      <td>Marmontel, M., de Souza, D. &amp; Kendall, S.</td>\n",
       "      <td>Morales-Vela, B., Castelblanco-Martínez, D.N. ...</td>\n",
       "      <td>Alves dos Santos, G., Carvalho de Carvalho, C....</td>\n",
       "      <td>NaN</td>\n",
       "    </tr>\n",
       "    <tr>\n",
       "      <th>4</th>\n",
       "      <td>4162</td>\n",
       "      <td>44199757</td>\n",
       "      <td>ANIMALIA</td>\n",
       "      <td>CHORDATA</td>\n",
       "      <td>MAMMALIA</td>\n",
       "      <td>CETARTIODACTYLA</td>\n",
       "      <td>DELPHINIDAE</td>\n",
       "      <td>Cephalorhynchus</td>\n",
       "      <td>hectori</td>\n",
       "      <td>NaN</td>\n",
       "      <td>...</td>\n",
       "      <td>(van Beneden, 1881)</td>\n",
       "      <td>EN</td>\n",
       "      <td>A4d</td>\n",
       "      <td>False</td>\n",
       "      <td>False</td>\n",
       "      <td>01-Jul-08</td>\n",
       "      <td>Reeves, R.R., Dawson, S.M., Jefferson, T.A., K...</td>\n",
       "      <td>Brownell Jr., R.L. &amp; Cooke, J.</td>\n",
       "      <td>NaN</td>\n",
       "      <td>NaN</td>\n",
       "    </tr>\n",
       "  </tbody>\n",
       "</table>\n",
       "<p>5 rows × 23 columns</p>\n",
       "</div>"
      ],
      "text/plain": [
       "   taxonid  assessmentid   kingdom    phylum     class            order  \\\n",
       "0    17026       1306343  ANIMALIA  CHORDATA  MAMMALIA        CARNIVORA   \n",
       "1    22103       9356917  ANIMALIA  CHORDATA  MAMMALIA          SIRENIA   \n",
       "2    10303      43792683  ANIMALIA  CHORDATA  MAMMALIA          SIRENIA   \n",
       "3    22102      43793736  ANIMALIA  CHORDATA  MAMMALIA          SIRENIA   \n",
       "4     4162      44199757  ANIMALIA  CHORDATA  MAMMALIA  CETARTIODACTYLA   \n",
       "\n",
       "         family            genus   species  infrarank  ...  \\\n",
       "0     OTARIIDAE       Phocarctos   hookeri        NaN  ...   \n",
       "1  TRICHECHIDAE       Trichechus   manatus        NaN  ...   \n",
       "2    DUGONGIDAE     Hydrodamalis     gigas        NaN  ...   \n",
       "3  TRICHECHIDAE       Trichechus  inunguis        NaN  ...   \n",
       "4   DELPHINIDAE  Cephalorhynchus   hectori        NaN  ...   \n",
       "\n",
       "   taxonomic_authority  category criteria possibly_extinct  \\\n",
       "0         (Gray, 1844)        EN     A4bd            False   \n",
       "1       Linnaeus, 1758        VU       C1            False   \n",
       "2   (Zimmermann, 1780)        EX      NaN            False   \n",
       "3     (Natterer, 1883)        VU     A3cd            False   \n",
       "4  (van Beneden, 1881)        EN      A4d            False   \n",
       "\n",
       "  possibly_extinct_wild assessmentdate  \\\n",
       "0                 False      18-Nov-14   \n",
       "1                 False      30-Jun-08   \n",
       "2                 False      04-Apr-16   \n",
       "3                 False      28-Feb-16   \n",
       "4                 False      01-Jul-08   \n",
       "\n",
       "                                           assessors  \\\n",
       "0                                     Chilvers, B.L.   \n",
       "1  Deutsch, C.J., Self-Sullivan, C. & Mignucci-Gi...   \n",
       "2                                        Domning, D.   \n",
       "3          Marmontel, M., de Souza, D. & Kendall, S.   \n",
       "4  Reeves, R.R., Dawson, S.M., Jefferson, T.A., K...   \n",
       "\n",
       "                                          evaluators  \\\n",
       "0                                  Goldsworthy, S.D.   \n",
       "1  Reynolds III, J.E. & Powell, J.A. (Sirenia Red...   \n",
       "2                                   Morales-Vela, B.   \n",
       "3  Morales-Vela, B., Castelblanco-Martínez, D.N. ...   \n",
       "4                     Brownell Jr., R.L. & Cooke, J.   \n",
       "\n",
       "                                        contributors  \\\n",
       "0                                        Gales, N.J.   \n",
       "1                                                NaN   \n",
       "2                                                NaN   \n",
       "3  Alves dos Santos, G., Carvalho de Carvalho, C....   \n",
       "4                                                NaN   \n",
       "\n",
       "                                        facilitators  \n",
       "0  Lowry, L., Chiozza, F., Ahonen, H. & Battiston...  \n",
       "1                                                NaN  \n",
       "2                                                NaN  \n",
       "3                                                NaN  \n",
       "4                                                NaN  \n",
       "\n",
       "[5 rows x 23 columns]"
      ]
     },
     "execution_count": 8,
     "metadata": {},
     "output_type": "execute_result"
    }
   ],
   "source": [
    "taxonomyData.head()"
   ]
  },
  {
   "cell_type": "code",
   "execution_count": 9,
   "id": "670dfe2f",
   "metadata": {
    "scrolled": false
   },
   "outputs": [
    {
     "data": {
      "text/html": [
       "<div>\n",
       "<style scoped>\n",
       "    .dataframe tbody tr th:only-of-type {\n",
       "        vertical-align: middle;\n",
       "    }\n",
       "\n",
       "    .dataframe tbody tr th {\n",
       "        vertical-align: top;\n",
       "    }\n",
       "\n",
       "    .dataframe thead th {\n",
       "        text-align: right;\n",
       "    }\n",
       "</style>\n",
       "<table border=\"1\" class=\"dataframe\">\n",
       "  <thead>\n",
       "    <tr style=\"text-align: right;\">\n",
       "      <th></th>\n",
       "      <th>taxonid</th>\n",
       "      <th>assessmentid</th>\n",
       "      <th>recordid</th>\n",
       "      <th>countryoccurrencelookup</th>\n",
       "      <th>countryoccurrencelookup_value</th>\n",
       "      <th>formerlybred</th>\n",
       "      <th>formerlybred_value</th>\n",
       "      <th>origin</th>\n",
       "      <th>origin_value</th>\n",
       "      <th>presence</th>\n",
       "      <th>presence_value</th>\n",
       "      <th>seasonality</th>\n",
       "      <th>seasonality_value</th>\n",
       "    </tr>\n",
       "  </thead>\n",
       "  <tbody>\n",
       "    <tr>\n",
       "      <th>0</th>\n",
       "      <td>1793</td>\n",
       "      <td>7636887</td>\n",
       "      <td>7636947</td>\n",
       "      <td>618</td>\n",
       "      <td>NE Niger</td>\n",
       "      <td>0</td>\n",
       "      <td>NaN</td>\n",
       "      <td>1</td>\n",
       "      <td>Native</td>\n",
       "      <td>1</td>\n",
       "      <td>Extant</td>\n",
       "      <td>0</td>\n",
       "      <td>NaN</td>\n",
       "    </tr>\n",
       "    <tr>\n",
       "      <th>1</th>\n",
       "      <td>1793</td>\n",
       "      <td>7636887</td>\n",
       "      <td>7636951</td>\n",
       "      <td>600</td>\n",
       "      <td>GH Ghana</td>\n",
       "      <td>0</td>\n",
       "      <td>NaN</td>\n",
       "      <td>1</td>\n",
       "      <td>Native</td>\n",
       "      <td>1</td>\n",
       "      <td>Extant</td>\n",
       "      <td>0</td>\n",
       "      <td>NaN</td>\n",
       "    </tr>\n",
       "    <tr>\n",
       "      <th>2</th>\n",
       "      <td>1793</td>\n",
       "      <td>7636887</td>\n",
       "      <td>7636955</td>\n",
       "      <td>576</td>\n",
       "      <td>AO Angola</td>\n",
       "      <td>0</td>\n",
       "      <td>NaN</td>\n",
       "      <td>1</td>\n",
       "      <td>Native</td>\n",
       "      <td>1</td>\n",
       "      <td>Extant</td>\n",
       "      <td>0</td>\n",
       "      <td>NaN</td>\n",
       "    </tr>\n",
       "    <tr>\n",
       "      <th>3</th>\n",
       "      <td>1793</td>\n",
       "      <td>7636887</td>\n",
       "      <td>7636959</td>\n",
       "      <td>583</td>\n",
       "      <td>CM Cameroon</td>\n",
       "      <td>0</td>\n",
       "      <td>NaN</td>\n",
       "      <td>1</td>\n",
       "      <td>Native</td>\n",
       "      <td>1</td>\n",
       "      <td>Extant</td>\n",
       "      <td>0</td>\n",
       "      <td>NaN</td>\n",
       "    </tr>\n",
       "    <tr>\n",
       "      <th>4</th>\n",
       "      <td>1793</td>\n",
       "      <td>7636887</td>\n",
       "      <td>7636963</td>\n",
       "      <td>615</td>\n",
       "      <td>NA Namibia</td>\n",
       "      <td>0</td>\n",
       "      <td>NaN</td>\n",
       "      <td>1</td>\n",
       "      <td>Native</td>\n",
       "      <td>1</td>\n",
       "      <td>Extant</td>\n",
       "      <td>0</td>\n",
       "      <td>NaN</td>\n",
       "    </tr>\n",
       "  </tbody>\n",
       "</table>\n",
       "</div>"
      ],
      "text/plain": [
       "   taxonid  assessmentid  recordid  countryoccurrencelookup  \\\n",
       "0     1793       7636887   7636947                      618   \n",
       "1     1793       7636887   7636951                      600   \n",
       "2     1793       7636887   7636955                      576   \n",
       "3     1793       7636887   7636959                      583   \n",
       "4     1793       7636887   7636963                      615   \n",
       "\n",
       "  countryoccurrencelookup_value  formerlybred formerlybred_value  origin  \\\n",
       "0                      NE Niger             0                NaN       1   \n",
       "1                      GH Ghana             0                NaN       1   \n",
       "2                     AO Angola             0                NaN       1   \n",
       "3                   CM Cameroon             0                NaN       1   \n",
       "4                    NA Namibia             0                NaN       1   \n",
       "\n",
       "  origin_value  presence presence_value  seasonality seasonality_value  \n",
       "0       Native         1         Extant            0               NaN  \n",
       "1       Native         1         Extant            0               NaN  \n",
       "2       Native         1         Extant            0               NaN  \n",
       "3       Native         1         Extant            0               NaN  \n",
       "4       Native         1         Extant            0               NaN  "
      ]
     },
     "execution_count": 9,
     "metadata": {},
     "output_type": "execute_result"
    }
   ],
   "source": [
    "countryData.head()"
   ]
  },
  {
   "cell_type": "markdown",
   "id": "3f7150f3",
   "metadata": {},
   "source": [
    "### Create and Process Dataframes"
   ]
  },
  {
   "cell_type": "markdown",
   "id": "873177a2",
   "metadata": {},
   "source": [
    "#### Family"
   ]
  },
  {
   "cell_type": "code",
   "execution_count": 57,
   "id": "460cea13",
   "metadata": {},
   "outputs": [
    {
     "name": "stdout",
     "output_type": "stream",
     "text": [
      "<class 'pandas.core.frame.DataFrame'>\n",
      "RangeIndex: 187 entries, 0 to 186\n",
      "Data columns (total 1 columns):\n",
      " #   Column  Non-Null Count  Dtype \n",
      "---  ------  --------------  ----- \n",
      " 0   fName   187 non-null    object\n",
      "dtypes: object(1)\n",
      "memory usage: 1.6+ KB\n"
     ]
    }
   ],
   "source": [
    "#Copy column to new dataframe\n",
    "family = taxonomyData[['family']].copy()\n",
    "#Rename column\n",
    "family = family.rename(columns = {'family': 'fName'})\n",
    "family.info()"
   ]
  },
  {
   "cell_type": "code",
   "execution_count": 58,
   "id": "13cecd4d",
   "metadata": {},
   "outputs": [
    {
     "name": "stdout",
     "output_type": "stream",
     "text": [
      "<class 'pandas.core.frame.DataFrame'>\n",
      "Index: 16 entries, 0 to 168\n",
      "Data columns (total 1 columns):\n",
      " #   Column  Non-Null Count  Dtype \n",
      "---  ------  --------------  ----- \n",
      " 0   fName   16 non-null     object\n",
      "dtypes: object(1)\n",
      "memory usage: 256.0+ bytes\n"
     ]
    }
   ],
   "source": [
    "#Drop duplicates\n",
    "family = family.drop_duplicates()\n",
    "family.info()"
   ]
  },
  {
   "cell_type": "markdown",
   "id": "dba66328",
   "metadata": {},
   "source": [
    "#### Genus"
   ]
  },
  {
   "cell_type": "code",
   "execution_count": 59,
   "id": "578e503c",
   "metadata": {},
   "outputs": [
    {
     "name": "stdout",
     "output_type": "stream",
     "text": [
      "<class 'pandas.core.frame.DataFrame'>\n",
      "RangeIndex: 187 entries, 0 to 186\n",
      "Data columns (total 2 columns):\n",
      " #   Column  Non-Null Count  Dtype \n",
      "---  ------  --------------  ----- \n",
      " 0   fName   187 non-null    object\n",
      " 1   gName   187 non-null    object\n",
      "dtypes: object(2)\n",
      "memory usage: 3.1+ KB\n"
     ]
    }
   ],
   "source": [
    "#Copy columns to new dataframe\n",
    "genus = taxonomyData[['family', 'genus']].copy()\n",
    "#Rename columns\n",
    "genus = genus.rename(columns = {'family': 'fName', 'genus': 'gName'})\n",
    "genus.info()"
   ]
  },
  {
   "cell_type": "code",
   "execution_count": 60,
   "id": "644e7707",
   "metadata": {},
   "outputs": [
    {
     "name": "stdout",
     "output_type": "stream",
     "text": [
      "<class 'pandas.core.frame.DataFrame'>\n",
      "Index: 82 entries, 0 to 183\n",
      "Data columns (total 2 columns):\n",
      " #   Column  Non-Null Count  Dtype \n",
      "---  ------  --------------  ----- \n",
      " 0   fName   82 non-null     object\n",
      " 1   gName   82 non-null     object\n",
      "dtypes: object(2)\n",
      "memory usage: 1.9+ KB\n"
     ]
    }
   ],
   "source": [
    "#Drop duplicates\n",
    "genus = genus.drop_duplicates()\n",
    "genus.info()"
   ]
  },
  {
   "cell_type": "markdown",
   "id": "c977482d",
   "metadata": {},
   "source": [
    "#### Species"
   ]
  },
  {
   "cell_type": "code",
   "execution_count": 62,
   "id": "078be978",
   "metadata": {},
   "outputs": [
    {
     "name": "stdout",
     "output_type": "stream",
     "text": [
      "<class 'pandas.core.frame.DataFrame'>\n",
      "RangeIndex: 187 entries, 0 to 186\n",
      "Data columns (total 5 columns):\n",
      " #   Column        Non-Null Count  Dtype \n",
      "---  ------        --------------  ----- \n",
      " 0   taxonID       187 non-null    int64 \n",
      " 1   sName         187 non-null    object\n",
      " 2   friendlyName  187 non-null    object\n",
      " 3   category      187 non-null    object\n",
      " 4   gName         187 non-null    object\n",
      "dtypes: int64(1), object(4)\n",
      "memory usage: 7.4+ KB\n"
     ]
    }
   ],
   "source": [
    "#Copy columns to new dataframe\n",
    "species = taxonomyData[['taxonid', 'species', 'friendly_name', 'category', 'genus']].copy()\n",
    "#Rename columns\n",
    "species = species.rename(columns = {'taxonid': 'taxonID', 'species': 'sName',\n",
    "                                    'friendly_name': 'friendlyName', 'genus': 'gName'})\n",
    "species.info()"
   ]
  },
  {
   "cell_type": "code",
   "execution_count": 64,
   "id": "c9ee335c",
   "metadata": {},
   "outputs": [],
   "source": [
    "#Drop duplicates\n",
    "#species = species.drop_duplicates()\n",
    "#species.info()\n",
    "\n",
    "#No duplicates were found"
   ]
  },
  {
   "cell_type": "markdown",
   "id": "a3bed372",
   "metadata": {},
   "source": [
    "#### Country"
   ]
  },
  {
   "cell_type": "code",
   "execution_count": 67,
   "id": "4bf555f6",
   "metadata": {},
   "outputs": [
    {
     "name": "stdout",
     "output_type": "stream",
     "text": [
      "<class 'pandas.core.frame.DataFrame'>\n",
      "RangeIndex: 17825 entries, 0 to 17824\n",
      "Data columns (total 2 columns):\n",
      " #   Column                         Non-Null Count  Dtype \n",
      "---  ------                         --------------  ----- \n",
      " 0   taxonID                        17825 non-null  int64 \n",
      " 1   countryoccurrencelookup_value  17543 non-null  object\n",
      "dtypes: int64(1), object(1)\n",
      "memory usage: 278.6+ KB\n"
     ]
    }
   ],
   "source": [
    "#Copy columns to new dataframe\n",
    "country = countryData[['taxonid', 'countryoccurrencelookup_value']].copy()\n",
    "#Rename columns\n",
    "country = country.rename(columns = {'taxonid': 'taxonID'})\n",
    "country.info()"
   ]
  },
  {
   "cell_type": "code",
   "execution_count": 68,
   "id": "2fe12c82",
   "metadata": {},
   "outputs": [
    {
     "name": "stdout",
     "output_type": "stream",
     "text": [
      "<class 'pandas.core.frame.DataFrame'>\n",
      "RangeIndex: 17825 entries, 0 to 17824\n",
      "Data columns (total 3 columns):\n",
      " #   Column       Non-Null Count  Dtype \n",
      "---  ------       --------------  ----- \n",
      " 0   taxonID      17825 non-null  int64 \n",
      " 1   countryAbbr  17543 non-null  object\n",
      " 2   countryName  17543 non-null  object\n",
      "dtypes: int64(1), object(2)\n",
      "memory usage: 417.9+ KB\n"
     ]
    }
   ],
   "source": [
    "#Split country column into its abbreviation and full name\n",
    "country[['countryAbbr', 'countryName']] = country['countryoccurrencelookup_value'].str.strip().str.split(' ', n=1, expand=True)\n",
    "#Drop original combined country column\n",
    "country.drop('countryoccurrencelookup_value', axis=1, inplace=True)\n",
    "country.info()"
   ]
  },
  {
   "cell_type": "code",
   "execution_count": 69,
   "id": "266e7483",
   "metadata": {},
   "outputs": [
    {
     "name": "stdout",
     "output_type": "stream",
     "text": [
      "<class 'pandas.core.frame.DataFrame'>\n",
      "Index: 17543 entries, 0 to 17824\n",
      "Data columns (total 3 columns):\n",
      " #   Column       Non-Null Count  Dtype \n",
      "---  ------       --------------  ----- \n",
      " 0   taxonID      17543 non-null  int64 \n",
      " 1   countryAbbr  17543 non-null  object\n",
      " 2   countryName  17543 non-null  object\n",
      "dtypes: int64(1), object(2)\n",
      "memory usage: 548.2+ KB\n"
     ]
    }
   ],
   "source": [
    "#Drop rows with missing countries\n",
    "country = country.dropna(subset = ['countryAbbr', 'countryName'])\n",
    "country.info()"
   ]
  },
  {
   "cell_type": "code",
   "execution_count": 70,
   "id": "a9144fb4",
   "metadata": {},
   "outputs": [
    {
     "name": "stdout",
     "output_type": "stream",
     "text": [
      "<class 'pandas.core.frame.DataFrame'>\n",
      "Index: 6572 entries, 0 to 17824\n",
      "Data columns (total 3 columns):\n",
      " #   Column       Non-Null Count  Dtype \n",
      "---  ------       --------------  ----- \n",
      " 0   taxonID      6572 non-null   int64 \n",
      " 1   countryAbbr  6572 non-null   object\n",
      " 2   countryName  6572 non-null   object\n",
      "dtypes: int64(1), object(2)\n",
      "memory usage: 205.4+ KB\n"
     ]
    }
   ],
   "source": [
    "#One taxonID can have many location\n",
    "#Drop duplicates with non-unique combination of all columns\n",
    "country = country.drop_duplicates(subset=['taxonID', 'countryAbbr', 'countryName'], keep='first')\n",
    "country.info()"
   ]
  },
  {
   "cell_type": "markdown",
   "id": "081b7c10",
   "metadata": {},
   "source": [
    "### Save Dataframes as CSV Files"
   ]
  },
  {
   "cell_type": "code",
   "execution_count": 71,
   "id": "673644b7",
   "metadata": {},
   "outputs": [],
   "source": [
    "family.to_csv('family.csv', index = False)\n",
    "genus.to_csv('genus.csv', index = False)\n",
    "species.to_csv('species.csv', index = False)\n",
    "country.to_csv('country.csv', index = False)"
   ]
  }
 ],
 "metadata": {
  "kernelspec": {
   "display_name": "Python 3 (ipykernel)",
   "language": "python",
   "name": "python3"
  },
  "language_info": {
   "codemirror_mode": {
    "name": "ipython",
    "version": 3
   },
   "file_extension": ".py",
   "mimetype": "text/x-python",
   "name": "python",
   "nbconvert_exporter": "python",
   "pygments_lexer": "ipython3",
   "version": "3.11.5"
  }
 },
 "nbformat": 4,
 "nbformat_minor": 5
}
